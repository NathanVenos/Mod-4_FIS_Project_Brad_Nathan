{
 "cells": [
  {
   "cell_type": "code",
   "execution_count": 3,
   "metadata": {},
   "outputs": [],
   "source": [
    "import pandas as pd"
   ]
  },
  {
   "cell_type": "code",
   "execution_count": 6,
   "metadata": {},
   "outputs": [],
   "source": [
    "cleaned_county_data = pd.read_csv(\"cleaned_county_health_data.csv\")"
   ]
  },
  {
   "cell_type": "code",
   "execution_count": 15,
   "metadata": {},
   "outputs": [
    {
     "data": {
      "text/plain": [
       "count     3081.000000\n",
       "mean      8484.184559\n",
       "std       2732.323044\n",
       "min       2610.690433\n",
       "25%       6602.249550\n",
       "50%       8130.554003\n",
       "75%      10004.410100\n",
       "max      35146.645203\n",
       "Name: premature_death_raw_value, dtype: float64"
      ]
     },
     "execution_count": 15,
     "metadata": {},
     "output_type": "execute_result"
    }
   ],
   "source": [
    "cleaned_county_data.premature_death_raw_value.describe()"
   ]
  },
  {
   "cell_type": "code",
   "execution_count": 16,
   "metadata": {},
   "outputs": [
    {
     "data": {
      "text/plain": [
       "Index(['statecode', 'countycode', 'fipscode', 'state', 'county', 'year',\n",
       "       'county_ranked', 'premature_death_raw_value',\n",
       "       'poor_or_fair_health_raw_value', 'poor_physical_health_days_raw_value',\n",
       "       'poor_mental_health_days_raw_value', 'low_birthweight_raw_value',\n",
       "       'adult_smoking_raw_value', 'adult_obesity_raw_value',\n",
       "       'food_environment_index_raw_value', 'physical_inactivity_raw_value',\n",
       "       'access_to_exercise_opportunities_raw_value',\n",
       "       'excessive_drinking_raw_value',\n",
       "       'alcohol_impaired_driving_deaths_raw_value',\n",
       "       'sexually_transmitted_infections_raw_value', 'teen_births_raw_value',\n",
       "       'uninsured_raw_value', 'primary_care_physicians_raw_value',\n",
       "       'ratio_of_population_to_primary_care_physicians', 'dentists_raw_value',\n",
       "       'ratio_of_population_to_dentists', 'mental_health_providers_raw_value',\n",
       "       'ratio_of_population_to_mental_health_providers',\n",
       "       'preventable_hospital_stays_raw_value',\n",
       "       'mammography_screening_raw_value', 'flu_vaccinations_raw_value',\n",
       "       'high_school_graduation_raw_value', 'some_college_raw_value',\n",
       "       'unemployment_raw_value', 'children_in_poverty_raw_value',\n",
       "       'income_inequality_raw_value',\n",
       "       'children_in_single_parent_households_raw_value',\n",
       "       'social_associations_raw_value', 'violent_crime_raw_value',\n",
       "       'injury_deaths_raw_value', 'air_pollution_particulate_matter_raw_value',\n",
       "       'drinking_water_violations_raw_value',\n",
       "       'severe_housing_problems_raw_value',\n",
       "       'percentage_of_households_with_high_housing_costs',\n",
       "       'percentage_of_households_with_overcrowding',\n",
       "       'percentage_of_households_with_lack_of_kitchen_or_plumbing_facilities',\n",
       "       'driving_alone_to_work_raw_value',\n",
       "       'long_commute_driving_alone_raw_value', 'life_expectancy_raw_value',\n",
       "       'premature_age_adjusted_mortality_raw_value',\n",
       "       'child_mortality_raw_value', 'infant_mortality_raw_value',\n",
       "       'frequent_physical_distress_raw_value',\n",
       "       'frequent_mental_distress_raw_value', 'diabetes_prevalence_raw_value',\n",
       "       'hiv_prevalence_raw_value', 'food_insecurity_raw_value',\n",
       "       'limited_access_to_healthy_foods_raw_value',\n",
       "       'drug_overdose_deaths_raw_value',\n",
       "       'motor_vehicle_crash_deaths_raw_value', 'insufficient_sleep_raw_value',\n",
       "       'uninsured_adults_raw_value', 'uninsured_children_raw_value',\n",
       "       'other_primary_care_providers_raw_value',\n",
       "       'ratio_of_population_to_primary_care_providers_other_than_physicians',\n",
       "       'disconnected_youth_raw_value', 'median_household_income_raw_value',\n",
       "       'children_eligible_for_free_or_reduced_price_lunch_raw_value',\n",
       "       'homicides_raw_value', 'firearm_fatalities_raw_value',\n",
       "       'homeownership_raw_value', 'severe_housing_cost_burden_raw_value',\n",
       "       'population_raw_value', 'pct_below_18_years_of_age_raw_value',\n",
       "       'pct_65_and_older_raw_value',\n",
       "       'pct_american_indian_and_alaskan_native_raw_value',\n",
       "       'pct_asian_raw_value',\n",
       "       'pct_native_hawaiian_other_pacific_islander_raw_value',\n",
       "       'pct_not_proficient_in_english_raw_value', 'pct_females_raw_value',\n",
       "       'pct_rural_raw_value'],\n",
       "      dtype='object')"
      ]
     },
     "execution_count": 16,
     "metadata": {},
     "output_type": "execute_result"
    }
   ],
   "source": [
    "cleaned_county_data.columns"
   ]
  }
 ],
 "metadata": {
  "kernelspec": {
   "display_name": "Python 3",
   "language": "python",
   "name": "python3"
  },
  "language_info": {
   "codemirror_mode": {
    "name": "ipython",
    "version": 3
   },
   "file_extension": ".py",
   "mimetype": "text/x-python",
   "name": "python",
   "nbconvert_exporter": "python",
   "pygments_lexer": "ipython3",
   "version": "3.6.8"
  },
  "latex_envs": {
   "LaTeX_envs_menu_present": true,
   "autoclose": false,
   "autocomplete": true,
   "bibliofile": "biblio.bib",
   "cite_by": "apalike",
   "current_citInitial": 1,
   "eqLabelWithNumbers": true,
   "eqNumInitial": 1,
   "hotkeys": {
    "equation": "Ctrl-E",
    "itemize": "Ctrl-I"
   },
   "labels_anchors": false,
   "latex_user_defs": false,
   "report_style_numbering": false,
   "user_envs_cfg": false
  }
 },
 "nbformat": 4,
 "nbformat_minor": 2
}
